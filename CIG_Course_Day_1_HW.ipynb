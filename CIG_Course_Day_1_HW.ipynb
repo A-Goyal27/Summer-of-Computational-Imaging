{
  "nbformat": 4,
  "nbformat_minor": 0,
  "metadata": {
    "colab": {
      "provenance": []
    },
    "kernelspec": {
      "name": "python3",
      "display_name": "Python 3"
    },
    "language_info": {
      "name": "python"
    }
  },
  "cells": [
    {
      "cell_type": "markdown",
      "source": [
        "#Homework"
      ],
      "metadata": {
        "id": "wZFG4s0g5jxd"
      }
    },
    {
      "cell_type": "markdown",
      "source": [
        "For homework, you will be filling in code to complete a random number guessing game.\n",
        "\n",
        "The game will randomly pick a number from 1-100, and then the player will enter their guess. The game will then tell them if their number is too high, too low, or if they guessed right. The player will only have 6 guesses, so they will not always win. When the game ends (either the player guesses right or runs out of guesses), the code will output a winning/losing message and show them each of their guesses."
      ],
      "metadata": {
        "id": "6sztyJvz5mdm"
      }
    },
    {
      "cell_type": "markdown",
      "source": [
        "Remember, it is expected that code will not work on the first time. It may take a while for you to fix one small thing, but that is part of the process. If you are stuck on something, look it up! w3schools is a great place for syntax questions, and Stack Overflow can help you with bigger issues."
      ],
      "metadata": {
        "id": "x83u4rwUT1VQ"
      }
    },
    {
      "cell_type": "markdown",
      "source": [
        "Read each comment as you go. Some will just explain what a piece of code does, others will give you intstructions on what to do."
      ],
      "metadata": {
        "id": "RGTtH5fG0kLa"
      }
    },
    {
      "cell_type": "code",
      "execution_count": null,
      "metadata": {
        "id": "b_GxXb-o4I7g"
      },
      "outputs": [],
      "source": [
        "import random #this is a package that makes using randomness easy"
      ]
    },
    {
      "cell_type": "code",
      "source": [
        "def showGuesses(guesses): #guesses, the paramater, is a list\n",
        "  print(\"Your guesses were: \")\n",
        "  #write a for loop that loops through the guesses list and prints each one\n"
      ],
      "metadata": {
        "id": "sA9hyqm_8HkG"
      },
      "execution_count": null,
      "outputs": []
    },
    {
      "cell_type": "code",
      "source": [
        "def random_number_game():\n",
        "  target = random.randint(1,100) #this is a function from the random package that gets a random integer in the specified range (inclusive)\n",
        "  guesses = [] #this is an empty list, you will add the player's guesses to it\n",
        "\n",
        "  #create a variable called numGuesses that will track how many guesses the player has made - it should start at 0\n",
        "\n",
        "  #in the range() function below, fill in a number so that the for loop will run 6 times\n",
        "  for attempt in range( ):\n",
        "    guess = int(input(\"Enter your guess: \")) #this is a way to get inputs from the user. Learn more here: https://www.w3schools.com/python/python_user_input.asp\n",
        "\n",
        "    #write a line of code that will add the user's guess to the guesses list (inside the for loop)\n",
        "\n",
        "    #write a line of code that will increase the numGuesses variable by 1 each (inside the for loop)\n",
        "\n",
        "    checkGuess(guess, target) #this is calling a function that you will write\n",
        "    if guess == target:\n",
        "      print(\"\\n\") #this just makes a new line\n",
        "\n",
        "      #in the print statement below, fill in the string so that \"You won! the number was _.\" is printed. The _ should be whatever the target number is\n",
        "      print( )\n",
        "\n",
        "      #write a line of code that calls the showGuesses() function on the guesses list\n",
        "\n",
        "\n",
        "      return #this will end the loop if the right guess is made\n",
        "    else:\n",
        "      #in the print statement below, fill in the string so that \"You have _ guesses left.\" is printed. The _ should be the number of guesses they have left (they start with 6)\n",
        "      print( )\n",
        "\n",
        "    print(\"\\n\")\n",
        "\n",
        "  #copy the winning message you wrote except replace \"You won!\" with \"You lost.\"\n",
        "\n",
        "  #write a line of code that calls the showGuesses() function on the guesses list\n"
      ],
      "metadata": {
        "id": "Wopx8Hw-6Rwf"
      },
      "execution_count": null,
      "outputs": []
    },
    {
      "cell_type": "code",
      "source": [
        "#write a function called checkGuess() that takes in two paramaters: a guess and a target value\n",
        "#if the guess is higher than the target \"Too high!\" should be printed, if the guess is lower print \"Too low!\", if the guess is correct print \"You guessed right!\"\n"
      ],
      "metadata": {
        "id": "KhvhA9zh6t36"
      },
      "execution_count": null,
      "outputs": []
    },
    {
      "cell_type": "code",
      "source": [
        "#run this cell to test your code, but first run all of the previous cells again\n",
        "random_number_game()\n",
        "#even if it seems like your code works after testing it, test it multiple times to check all possibilities of the game"
      ],
      "metadata": {
        "id": "MxUpBTXv7cE9"
      },
      "execution_count": null,
      "outputs": []
    }
  ]
}