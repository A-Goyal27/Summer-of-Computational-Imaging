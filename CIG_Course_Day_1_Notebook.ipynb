{
  "nbformat": 4,
  "nbformat_minor": 0,
  "metadata": {
    "colab": {
      "provenance": []
    },
    "kernelspec": {
      "name": "python3",
      "display_name": "Python 3"
    },
    "language_info": {
      "name": "python"
    }
  },
  "cells": [
    {
      "cell_type": "markdown",
      "source": [
        "# Hello!\n",
        "This notebook will be something to work in for today's lesson. You will get a new notebook for each day. Some of the code cells will be filled out already, some will have you fill in the blanks."
      ],
      "metadata": {
        "id": "pg9XNckOCGSp"
      }
    },
    {
      "cell_type": "markdown",
      "source": [
        "## Coding in Python"
      ],
      "metadata": {
        "id": "K12E4VHWCbpT"
      }
    },
    {
      "cell_type": "markdown",
      "source": [
        "**Hello World** - to run the code, hover over the code cell and click the play button on the left"
      ],
      "metadata": {
        "id": "aQvZX34iCe0a"
      }
    },
    {
      "cell_type": "code",
      "execution_count": null,
      "metadata": {
        "id": "RzlJ4Dkq7rJJ"
      },
      "outputs": [],
      "source": [
        "print(\"Hello World\")"
      ]
    },
    {
      "cell_type": "code",
      "source": [
        "#this is called a comment, it starts with a #\n",
        "#when you run the code, the comment will not do anything\n",
        "print( ) #type your age into the brackets, and then run the code"
      ],
      "metadata": {
        "id": "iciewFXCCrvJ"
      },
      "execution_count": null,
      "outputs": []
    },
    {
      "cell_type": "markdown",
      "source": [
        "**Basic Math**"
      ],
      "metadata": {
        "id": "V-IGvftVDEl9"
      }
    },
    {
      "cell_type": "code",
      "source": [
        "#Addition\n",
        "print(2 + 2)"
      ],
      "metadata": {
        "id": "Uh_mRQqSDHHc"
      },
      "execution_count": null,
      "outputs": []
    },
    {
      "cell_type": "code",
      "source": [
        "#Multiplication\n",
        "print(3 * 4)"
      ],
      "metadata": {
        "id": "P3Gvx1o-Dtp8"
      },
      "execution_count": null,
      "outputs": []
    },
    {
      "cell_type": "code",
      "source": [
        "#Try to fill in the print statement to subtract 10 and 6\n",
        "print( )\n",
        "\n",
        "#Fill in the print statement to divide 5 and 2\n",
        "print( )"
      ],
      "metadata": {
        "id": "RD0kCXcaDxu-"
      },
      "execution_count": null,
      "outputs": []
    },
    {
      "cell_type": "code",
      "source": [
        "#Modulo - which in this case means what is the remainder when 11 is divided by 4\n",
        "print(11 % 4)"
      ],
      "metadata": {
        "id": "OSsvdV_BD_3u"
      },
      "execution_count": null,
      "outputs": []
    },
    {
      "cell_type": "code",
      "source": [
        "#Challenge: Try and raise (2 + 3) to the 5th power - make sure that the numbers 2, 3, and 5 show up in your code! - the answer should be 3125\n",
        "print( )"
      ],
      "metadata": {
        "id": "NqNPnlu8Nzp4"
      },
      "execution_count": null,
      "outputs": []
    },
    {
      "cell_type": "markdown",
      "source": [
        "**Basic Logic**"
      ],
      "metadata": {
        "id": "Ri--jOJlEidm"
      }
    },
    {
      "cell_type": "code",
      "source": [
        "#Comparisons (greater than or less than)\n",
        "print(53 > 3)\n",
        "print(22 < 18)"
      ],
      "metadata": {
        "id": "t8dUxfnvEwQQ"
      },
      "execution_count": null,
      "outputs": []
    },
    {
      "cell_type": "code",
      "source": [
        "#Equality\n",
        "print(5 == 5)\n",
        "print(4 != 3)"
      ],
      "metadata": {
        "id": "D-XClJrZFDup"
      },
      "execution_count": null,
      "outputs": []
    },
    {
      "cell_type": "code",
      "source": [
        "#Try it yourself!\n",
        "\n",
        "#Check if 42 is greater than 33\n",
        "print( )\n",
        "\n",
        "#Check if 10 does NOT equal 10\n",
        "print( )\n",
        "\n",
        "#Check if 37 equals 37, remember to use two equals signs: ==\n",
        "print( )"
      ],
      "metadata": {
        "id": "iEEp0PKuFIb8"
      },
      "execution_count": null,
      "outputs": []
    },
    {
      "cell_type": "markdown",
      "source": [
        "**Variables**"
      ],
      "metadata": {
        "id": "5svNo2iBHzeG"
      }
    },
    {
      "cell_type": "code",
      "source": [
        "#Here, the year is being stored as an integer in a variable called year\n",
        "year = 2025\n",
        "\n",
        "#to get an output of the year we can use our favorite function! The print() function!\n",
        "print(year)"
      ],
      "metadata": {
        "id": "OspMJ_C5H01X"
      },
      "execution_count": null,
      "outputs": []
    },
    {
      "cell_type": "code",
      "source": [
        "#variables can also be a lot of other data types\n",
        "the_course_has_started = True\n",
        "text = \"Hello World\"\n",
        "pi = 3.14159\n",
        "\n",
        "print(theCourseHasStarted)\n",
        "print(text)\n",
        "print(pi)"
      ],
      "metadata": {
        "id": "6JCiuT-aJOrp"
      },
      "execution_count": null,
      "outputs": []
    },
    {
      "cell_type": "code",
      "source": [
        "#Try filling out some variables for yourself!\n",
        "\n",
        "#give name a string with your name\n",
        "name =\n",
        "#give age an integer with your age\n",
        "age =\n",
        "#give hasADog a boolean on whether you have a dog or not, remember: booleans need to start with a capital letter!\n",
        "hasADog =\n",
        "\n",
        "#Run the code! don't worry about this print statement, it's a bit fancy - we'll get to that soon\n",
        "print(\"Hi! My name is \" + name + \". I am \" + str(age) + \" years old. I have a dog: \" + str(hasADog))"
      ],
      "metadata": {
        "id": "hpYsY57hJu4q"
      },
      "execution_count": null,
      "outputs": []
    },
    {
      "cell_type": "code",
      "source": [
        "#What if we want to add a number to a variable, and then store that new thing?\n",
        "number = 4\n",
        "\n",
        "#one way is like this\n",
        "number = number + 1 #number now ='s 5\n",
        "print(number)\n",
        "\n",
        "#another way is like this\n",
        "number += 1 #number now = 's 6\n",
        "print(number)\n",
        "\n",
        "#and you can do this sort of operation with any of the math operatator!"
      ],
      "metadata": {
        "id": "JZWieBdzOPnX"
      },
      "execution_count": null,
      "outputs": []
    },
    {
      "cell_type": "markdown",
      "source": [
        "**Casting**"
      ],
      "metadata": {
        "id": "Kx5K7yzfLMeo"
      }
    },
    {
      "cell_type": "code",
      "source": [
        "#Lets say we had a website where the user entered their age - they would enter their age as text which is a string\n",
        "#we want to get that text into an integer\n",
        "age = \"24\"\n",
        "#to get it into an integer, we use the int() function\n",
        "age = int(age) #also, you can have variables equal versions of themselves!\n",
        "#now, age is an integer!\n",
        "\n",
        "#we are going to move on for now, but if you want more to learn more, go here: https://www.w3schools.com/python/python_casting.asp"
      ],
      "metadata": {
        "id": "RIq8AcVYLN7B"
      },
      "execution_count": null,
      "outputs": []
    },
    {
      "cell_type": "markdown",
      "source": [
        "**Combining Strings**"
      ],
      "metadata": {
        "id": "XAnsn7YOMKua"
      }
    },
    {
      "cell_type": "code",
      "source": [
        "#hey! remember that fancy print statement from earlier? Well now we are going to work on that\n",
        "\n",
        "#here we have someone's firth and last name, but how do we get the full name? we could write it out, or we could concatenate them!\n",
        "firstName = \"John\"\n",
        "lastName = \"Smith\"\n",
        "\n",
        "fullName = firstName + \" \" + lastName #don't forget to add the space in between\n",
        "\n",
        "print(fullName)"
      ],
      "metadata": {
        "id": "a9tHIygINNol"
      },
      "execution_count": null,
      "outputs": []
    },
    {
      "cell_type": "code",
      "source": [
        "#IMPORTANT: when you concatenate strings they MUST ALL BE STRINGs\n",
        "#to make sure this happens, we can cast things to strings\n",
        "year = 2025\n",
        "print(\"The year is \" + str(year)) #here, we wrapped the year in str() to make is a string!"
      ],
      "metadata": {
        "id": "vk4s5-_RPoAd"
      },
      "execution_count": null,
      "outputs": []
    },
    {
      "cell_type": "code",
      "source": [
        "#Try it yourself!\n",
        "genus = \"Aptenodytes\"\n",
        "species = \"forsteri\"\n",
        "\n",
        "lifespan = 17\n",
        "\n",
        "#write a print statement with concatenation and casting that outputs: The Aptenodytes forsteri is the Emperor Penguin. It lives about 17 years.\n",
        "\n",
        "\n"
      ],
      "metadata": {
        "id": "XyvHQ-CdQBEj"
      },
      "execution_count": null,
      "outputs": []
    },
    {
      "cell_type": "markdown",
      "source": [
        "**Lists and Arrays**"
      ],
      "metadata": {
        "id": "Ur9z59OH9DD4"
      }
    },
    {
      "cell_type": "code",
      "source": [
        "#in python, this is what a list looks like:\n",
        "names = [\"John\", \"Jane\", \"Jeremiah\", \"Joan\"] #it can have as many elements as you would like!\n",
        "\n",
        "\n",
        "#while a list can have different datatypes\n",
        "myList = [2, \"hello\", True] #this is completely fine\n",
        "#you rarely will want a list that has multiple data types though"
      ],
      "metadata": {
        "id": "vKFDN3ag9LNm"
      },
      "execution_count": null,
      "outputs": []
    },
    {
      "cell_type": "code",
      "source": [
        "#lets say I want to know who the second person is in the list\n",
        "#I would get that by doing\n",
        "secondPerson = names[1] #remember, the first person is considered position 0\n",
        "\n",
        "print(\"The Second Person is \" + secondPerson)\n",
        "\n",
        "#this is how to access a sublist in the list\n",
        "subList = names[1:3]\n",
        "#by using the colon, I am accessing the list from position 1 to position 2 (the last position given, in this case 3, is excluded)\n",
        "print(subList)"
      ],
      "metadata": {
        "id": "HtlzNm-T-YM7"
      },
      "execution_count": null,
      "outputs": []
    },
    {
      "cell_type": "code",
      "source": [
        "#what happens when you try to access an element by an index not in the list?\n",
        "print(names[4]) #index 4 is outside of the list (because 0 is the starting) so if we try to access that element, we will get an error"
      ],
      "metadata": {
        "id": "0x6n8lvWaHQ5"
      },
      "execution_count": null,
      "outputs": []
    },
    {
      "cell_type": "markdown",
      "source": [
        "**Changing Lists**"
      ],
      "metadata": {
        "id": "GMcgL9KuAc_I"
      }
    },
    {
      "cell_type": "code",
      "source": [
        "names2 = names.copy() #this just creates a copy of the list, don't worry about this too much\n",
        "\n",
        "#To modify an element you just access the element, and set it equal to something new\n",
        "names2[2] = \"Bob\" #this will change the third name in the list to Bob\n",
        "print(names2)\n",
        "\n",
        "#To add something to the list, you use the .append() method - this is a new type of method, but as you got further you will use a lot more .functions()\n",
        "names2.append(\"Alice\")\n",
        "print(names2)\n",
        "\n",
        "#There are two ways to remove items from the list\n",
        "#First is the .remove() method, this one will remove an items from the list that has the same value as what is in the method\n",
        "names2.remove(\"Joan\")\n",
        "print(names2)\n",
        "\n",
        "#or, you can use the .pop() method, which will remove something specified by the index\n",
        "names2.pop(2) #this will remove Bob\n",
        "print(names2)\n",
        "\n",
        "#and finally, you can sort the list using the .sort() method\n",
        "names2.sort()\n",
        "print(names2)"
      ],
      "metadata": {
        "id": "txASgDEvAegO"
      },
      "execution_count": null,
      "outputs": []
    },
    {
      "cell_type": "markdown",
      "source": [
        "**2D Lists**"
      ],
      "metadata": {
        "id": "nZs_SEX2luTe"
      }
    },
    {
      "cell_type": "code",
      "source": [
        "#this is a 2D list\n",
        "chessBoard = [\n",
        " ['a8', 'b8', 'c8', 'd8', 'e8', 'f8', 'g8', 'h8'],\n",
        " ['a7', 'b7', 'c7', 'd7', 'e7', 'f7', 'g7', 'h7'],\n",
        " ['a6', 'b6', 'c6', 'd6', 'e6', 'f6', 'g6', 'h6'],\n",
        " ['a5', 'b5', 'c5', 'd5', 'e5', 'f5', 'g5', 'h5'],\n",
        " ['a4', 'b4', 'c4', 'd4', 'e4', 'f4', 'g4', 'h4'],\n",
        " ['a3', 'b3', 'c3', 'd3', 'e3', 'f3', 'g3', 'h3'],\n",
        " ['a2', 'b2', 'c2', 'd2', 'e2', 'f2', 'g2', 'h2'],\n",
        " ['a1', 'b1', 'c1', 'd1', 'e1', 'f1', 'g1', 'h1']\n",
        " ]"
      ],
      "metadata": {
        "id": "n1XL7XJZlr6I"
      },
      "execution_count": null,
      "outputs": []
    },
    {
      "cell_type": "markdown",
      "source": [
        "**Loops**"
      ],
      "metadata": {
        "id": "YXHK8hZxMHH6"
      }
    },
    {
      "cell_type": "code",
      "source": [
        "#For loop\n",
        "numbers = [1, 2, 3, 4, 5, 6, 7, 8, 9, 10, 11, 12]\n",
        "#lets say I want a new list of the squares of these numbers - I could type each one out, or I could use a loop!\n",
        "\n",
        "squares = [] #lets start with an empty list, that I will add the new things to\n",
        "\n",
        "for number in numbers: #here, the syntax goes for item in list: do the stuff -- the item can be named whatever you want, pick a good name!\n",
        "  #just like with if statements, python knows that the action is part of the for loop because they are indented after the for loop and they are after the colon!\n",
        "  square = number**2 #remember that ** means to the power of\n",
        "  squares.append(square)\n",
        "\n",
        "print(squares)"
      ],
      "metadata": {
        "id": "JTGvxDRHMICl"
      },
      "execution_count": null,
      "outputs": []
    },
    {
      "cell_type": "code",
      "source": [
        "#sometimes when using a for loop, we want the index of the item instead of the item itself (maybe this is because we are modifying the list)\n",
        "#here I have a list of points from a game that people played\n",
        "points = [5, 23, 18, 13, 40, 10, 6]\n",
        "\n",
        "#I want to reset all of the points in this list but keep the original list\n",
        "for i in range(len(points)):\n",
        "#ok a lot just happened, first I used i for the item, this is common practice since i stands for iteration or index (don't worry about this too much)\n",
        "#second, and more importantly, the range(len(points)) -> What this will do is set i = to 0, then 1, then 2, then 3, and so forth -- this is useful because we now have the index of each item\n",
        "  points[i] = 0 #now, I can use the index to modify each item and set them equal to 0\n",
        "\n",
        "print(points)"
      ],
      "metadata": {
        "id": "gJFXd7x7NHGy"
      },
      "execution_count": null,
      "outputs": []
    },
    {
      "cell_type": "code",
      "source": [
        "#Try it yourself\n",
        "#write a for loop that prints the names of these books in sorted order\n",
        "books = [\"Harry Potter and the Sorceros Stone\", \"Percy Jackson the Lightning Thief\", \"Midnight's Children\", \"The Hunger Games\", \"The Great Gatsby\"]\n",
        "\n",
        "#write your code here"
      ],
      "metadata": {
        "id": "nel3y0GeOJT7"
      },
      "execution_count": null,
      "outputs": []
    },
    {
      "cell_type": "code",
      "source": [
        "#this is what looping through the 2D list looks like - it used nested for loops\n",
        "for row in chessBoard:\n",
        "  for square in row:\n",
        "    print(square, end= \" \")\n",
        "  print('\\n')\n",
        "\n",
        "print('\\n\\n')\n",
        "#we can also access things by index in 2D lists, now each element has two indeces - a row index and a column index\n",
        "for r in range(len(chessBoard)): #this will loop through the row indeces of chessBoard\n",
        "  for c in range(len(chessBoard[r])): #and this will loop through the column indeces of chessBoard\n",
        "    print(chessBoard[r][c], end= \" \") #then, we can index the 2D list by first accessing the row, and then accessing the column\n",
        "    #one way to think about this is that since a 2D list is a list of lists, chessBoard[r] will get the entire row, and then the [c] will get the specific element in that list\n",
        "  print('\\n')"
      ],
      "metadata": {
        "id": "v8JDuZLHmuXf"
      },
      "execution_count": null,
      "outputs": []
    },
    {
      "cell_type": "markdown",
      "source": [
        "**If...Then... (Conditionals)**"
      ],
      "metadata": {
        "id": "07tElzWEHcNP"
      }
    },
    {
      "cell_type": "code",
      "source": [
        "#lets say we are making a simulation game and we want to know if someone is old enough to drink\n",
        "age = 22 #this person is old enough to drink\n",
        "\n",
        "if (age >= 21):\n",
        "    print(\"You can drink!\")\n",
        "\n",
        "age = 20\n",
        "\n",
        "if (age >= 21):\n",
        "  print(\"You can drink!\")\n",
        "\n",
        "#the first one will be printed because the if... statement is satisfied, but the second one will not"
      ],
      "metadata": {
        "id": "FbupL_68HimG"
      },
      "execution_count": null,
      "outputs": []
    },
    {
      "cell_type": "markdown",
      "source": [
        "**Booleans**"
      ],
      "metadata": {
        "id": "lnGkIPGZIgMN"
      }
    },
    {
      "cell_type": "code",
      "source": [
        "#let's start with the not operator\n",
        "#this one is simple, it just flips a True to a False and vice versa\n",
        "myBoolean = True\n",
        "print(not myBoolean)"
      ],
      "metadata": {
        "id": "5FzcDMegH6Y-"
      },
      "execution_count": null,
      "outputs": []
    },
    {
      "cell_type": "code",
      "source": [
        "#next up is the and operator\n",
        "#the and operator will return True if both of the statements are True, and otherwise will return False\n",
        "print(True and True)\n",
        "print(True and False)\n",
        "print(False and True)\n",
        "print(False and False)"
      ],
      "metadata": {
        "id": "ljMsxtRbI0me"
      },
      "execution_count": null,
      "outputs": []
    },
    {
      "cell_type": "code",
      "source": [
        "#next up is the or operator\n",
        "#the or operator will return True if at least one of the statments is True\n",
        "print(True or True)\n",
        "print(True or False)\n",
        "print(False or True)\n",
        "print(False or False)\n",
        "#unlike in English, or does not mean only one; both can be True for the or to be True"
      ],
      "metadata": {
        "id": "HWviiSjUI9CX"
      },
      "execution_count": null,
      "outputs": []
    },
    {
      "cell_type": "code",
      "source": [
        "#equals\n",
        "print(True == True)\n",
        "print(True == False)\n",
        "print(False == True)\n",
        "print(False == False)\n",
        "\n",
        "print(\"\\n\") #don't worry about this line\n",
        "\n",
        "#not equals\n",
        "print(True != True)\n",
        "print(True != False)\n",
        "print(False != True)\n",
        "print(False != False)"
      ],
      "metadata": {
        "id": "j0nkQ-G8cIIA"
      },
      "execution_count": null,
      "outputs": []
    },
    {
      "cell_type": "markdown",
      "source": [
        "**If**: we have learned about booleans, **then**: lets continue talking about conditionals"
      ],
      "metadata": {
        "id": "CQkmgTLBJQZc"
      }
    },
    {
      "cell_type": "code",
      "source": [
        "#let's say in our simulation game we want to check if someone could get their driver's license\n",
        "#we would need to check a couple things about that person\n",
        "age = 17\n",
        "passedTest = False\n",
        "\n",
        "#to get your driver's license you would need to be at least 16 and have passed your test\n",
        "if (age >= 16 and passedTest): #look at the syntax, here is the colon, and then the next line is indented\n",
        "    print(\"You can get your driver's license!\")\n",
        "elif (age >= 16 and not passedTest): #the else if statement in python is written as elif\n",
        "    print(\"You need to pass the test!\")\n",
        "else:\n",
        "    print(\"You cannot get your driver's license!\")\n",
        "\n",
        "#using the and statement, we can check both of these things at once\n",
        "#mess around with different starting values for age and passedTest and see what the conditional outputs"
      ],
      "metadata": {
        "id": "M0c-M9sQJVnu"
      },
      "execution_count": null,
      "outputs": []
    },
    {
      "cell_type": "code",
      "source": [
        "#time to try it out yourself!\n",
        "#write an if, else if, and else statement that checks how many strings and instrument has, and reports it's a bass if it has 4 strings, a guitar if it has 6 strings, and reports I don't know if it has another number\n",
        "strings = 6\n",
        "\n",
        "#write your code here\n"
      ],
      "metadata": {
        "id": "Jap9T3dcKKsQ"
      },
      "execution_count": null,
      "outputs": []
    },
    {
      "cell_type": "code",
      "source": [
        "#here are two variables\n",
        "myVar1 = False\n",
        "myVar2 = False\n",
        "#using not's, or's and and's, fill out the if statement so when you run the code it print's hello\n",
        "if ( ):\n",
        "    print(\"Hello\")\n",
        "else:\n",
        "  print(\"Try Again\")"
      ],
      "metadata": {
        "id": "rj93qwiJcr0-"
      },
      "execution_count": null,
      "outputs": []
    },
    {
      "cell_type": "markdown",
      "source": [
        "**Functions**"
      ],
      "metadata": {
        "id": "d9f8ZWWMO2Tg"
      }
    },
    {
      "cell_type": "code",
      "source": [
        "#Functions, first syntax\n",
        "def myFunction(thing): #functions always start with def, and then you give the name of the function, then you write () and inside the () you put the paramaters (inptus), and then you write the colon --btw functions don't need to have parameters in coding\n",
        "  print(thing)\n",
        "\n",
        "myFunction(\"hello\") #this is called \"calling the function\", you just write the function and its parenthesis/paramaters, and it runs the function"
      ],
      "metadata": {
        "id": "p6h6fxxOO3RW"
      },
      "execution_count": null,
      "outputs": []
    },
    {
      "cell_type": "code",
      "source": [
        "#alright we are gonna kick up the notch a bit more, lets say I want to write a function that calculates the factorial of a number\n",
        "def factorial(number):\n",
        "  result = 1\n",
        "  for i in range(number):\n",
        "    result = result * (i+1)\n",
        "  return result #WOAH, what is this thing, the return? A function might \"return\" something, which is a way of storing the results\n",
        "\n",
        "factorialOf5 = factorial(5)\n",
        "print(factorialOf5)\n"
      ],
      "metadata": {
        "id": "fRw_2p5vP7Em"
      },
      "execution_count": null,
      "outputs": []
    },
    {
      "cell_type": "code",
      "source": [
        "#time to try it yourself! Write a function called fibonacci() that takes a number, and returns the fibonacci number associated with it\n",
        "#nothing to fill in this time, you get to write it all yourself!\n",
        "\n",
        "#write your code here\n",
        "\n",
        "print(fibonacci(6)) #this should = 8"
      ],
      "metadata": {
        "id": "rjorhcDuQf6v"
      },
      "execution_count": null,
      "outputs": []
    },
    {
      "cell_type": "markdown",
      "source": [
        "**Packages**"
      ],
      "metadata": {
        "id": "92O4FtmdRlv7"
      }
    },
    {
      "cell_type": "code",
      "source": [
        "#to access a package we must import it\n",
        "import math #here I am importing the math package, which contains a ton of useful math functions\n",
        "\n",
        "#remember earlier when we made the factorial function? Well the math package already has it for us\n",
        "#to use something from a package it looks like this\n",
        "factorailOf5 = math.factorial(5)\n",
        "print(factorailOf5)"
      ],
      "metadata": {
        "id": "NCDqilP_RlWb"
      },
      "execution_count": null,
      "outputs": []
    },
    {
      "cell_type": "markdown",
      "source": [
        "If you want extra practice or review in any of these areas, go to this website: https://www.w3schools.com/python/\n",
        "\n",
        "The tutorial will cover a lot more than we did, so if you are interested check that out. If not, just use the lefthand side to jump to the specific things you need review in!"
      ],
      "metadata": {
        "id": "T_tYYtdnMdSY"
      }
    },
    {
      "cell_type": "markdown",
      "source": [
        "## Mini Projects"
      ],
      "metadata": {
        "id": "TjzfpR_LRV6t"
      }
    },
    {
      "cell_type": "code",
      "source": [
        "#here we have two lists, one of first names and one of last names\n",
        "firstNames = [\"Alice\", \"Bob\", \"David\", \"Thom\", \"Chris\", \"Hayley\"]\n",
        "lastNames = [\"Cooper\", \"Dylan\", \"Gilmour\", \"Yorke\", \"Christodoulou\", \"Williams\"]\n",
        "\n",
        "#write a function called fullName() that takes in a first name and a last name and returns the full name\n",
        "\n",
        "#then, loop through the lists and use your new function to print out all the full names\n",
        "\n",
        "#if you get stuck, ask your intstructor OR ask ChatGPT to help you, DON'T ASK IT TO WRITE YOUR CODE, instead ask it: \"I want to write the code myself, can you just help me with it?\""
      ],
      "metadata": {
        "id": "fH9lLRI2Svxy"
      },
      "execution_count": null,
      "outputs": []
    },
    {
      "cell_type": "code",
      "source": [
        "#time to check some passwords\n",
        "#in this world a good password must be at least 8 characters, have a number, and start with a capital\n",
        "password = \"password\" #bad password\n",
        "password2 = \"BestCourse91\" #good password\n",
        "#write a function that called strongPassword() that takes in a password as a string, and returns a boolean on whether or not it meets the criteria\n",
        "#you will need a lot for this, and some things you will need for this I haven't taught you\n",
        "#write the pseudocode, and look up the things you don't know how to implement\n",
        "\n",
        "print(password + \" is a Strong Password \" + str(strongPassword(password)))\n",
        "print(password2 + \" is a Strong Password \" + str(strongPassword(password2)))"
      ],
      "metadata": {
        "id": "6TqJ1HmpT3qe"
      },
      "execution_count": null,
      "outputs": []
    },
    {
      "cell_type": "code",
      "source": [
        "#Write a function that takes in a number in binary (1's and 0's), and outputs the number is base 10 - the inputted number will just be an integer ex. 10010\n"
      ],
      "metadata": {
        "id": "5vNIujd4T54c"
      },
      "execution_count": null,
      "outputs": []
    }
  ]
}