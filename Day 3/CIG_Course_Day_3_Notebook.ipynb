{
  "nbformat": 4,
  "nbformat_minor": 0,
  "metadata": {
    "colab": {
      "provenance": []
    },
    "kernelspec": {
      "name": "python3",
      "display_name": "Python 3"
    },
    "language_info": {
      "name": "python"
    }
  },
  "cells": [
    {
      "cell_type": "markdown",
      "source": [
        "#Day 3"
      ],
      "metadata": {
        "id": "o04zIh3Cve9p"
      }
    },
    {
      "cell_type": "markdown",
      "source": [
        "Welcome to Day 3-The Final Day. Today we will go over convolutions, noise, and denoising."
      ],
      "metadata": {
        "id": "7MwrgGkqvYMr"
      }
    },
    {
      "cell_type": "markdown",
      "source": [
        "##### Convolutions"
      ],
      "metadata": {
        "id": "NTmW8ycnvhhh"
      }
    },
    {
      "cell_type": "code",
      "source": [
        "import numpy as np\n",
        "import matplotlib.pyplot as plt\n",
        "from skimage import data\n",
        "\n",
        "#this is the package we will be using today to convolve images, but there are other commonly used ones as well\n",
        "from scipy.ndimage import convolve"
      ],
      "metadata": {
        "id": "iEGrY1CcvXrt"
      },
      "execution_count": null,
      "outputs": []
    },
    {
      "cell_type": "code",
      "source": [
        "#lets start by loading in our image - our favorite cat Chelsea\n",
        "image = data.chelsea()\n",
        "image = image/255\n",
        "plt.imshow(image)\n",
        "plt.show()"
      ],
      "metadata": {
        "id": "ndF6jKEYv5JT"
      },
      "execution_count": null,
      "outputs": []
    },
    {
      "cell_type": "code",
      "source": [
        "#to start, lets look at a simple blur - like the first one in the 3Blue1Brown video\n",
        "blurKernel = np.array([[1/9, 1/9, 1/9],\n",
        "                       [1/9, 1/9, 1/9],\n",
        "                       [1/9, 1/9, 1/9]\n",
        "                       ])\n",
        "#the kernel here is just the same value throughout, so that means that each new pixel will be an average of the 3x3 around it\n",
        "convolvedImage = convolve(image, blurKernel, axes=[0,1])\n",
        "\n",
        "plt.imshow(convolvedImage)\n",
        "plt.show()"
      ],
      "metadata": {
        "id": "ni2q-dDHwAWs"
      },
      "execution_count": null,
      "outputs": []
    },
    {
      "cell_type": "code",
      "source": [
        "#try it yourself, convolve Chelsea with a filter that creates an outline - if you don't know what the kernel should looklike, go back to the Setosa site and see what they use\n",
        "outlineKernel = np.array([\n",
        "\n",
        "                          ])\n",
        "\n",
        "convolvedImage = convolve(image, outlineKernel, axes=[0,1])\n",
        "\n",
        "convolvedImage = np.clip(convolvedImage, 0, 1) #this restricts the final values we get to be between 0 and 1\n",
        "\n",
        "plt.imshow(convolvedImage)\n",
        "plt.show()"
      ],
      "metadata": {
        "id": "K9EUcyBAyBjG"
      },
      "execution_count": null,
      "outputs": []
    },
    {
      "cell_type": "markdown",
      "source": [
        "Padding"
      ],
      "metadata": {
        "id": "Mz2TiUofzBg4"
      }
    },
    {
      "cell_type": "code",
      "source": [
        "#for us right now, there isn't a big use case for padding, but lets still see what it would look like\n",
        "zeroPaddedImage = np.pad(image,\n",
        "                     pad_width=((2, 2), (2, 2), (0, 0)),\n",
        "                     mode='constant',\n",
        "                     constant_values=0)\n",
        "\n",
        "plt.imshow(zeroPaddedImage)\n",
        "plt.show()\n",
        "#now there is a black border - a border of 0's - around the image"
      ],
      "metadata": {
        "id": "Np37pxhxzCss"
      },
      "execution_count": null,
      "outputs": []
    },
    {
      "cell_type": "code",
      "source": [
        "replicationPaddedImage = np.pad(image,\n",
        "                     pad_width=((2, 2), (2, 2), (0, 0)), #the reason we have to put this list-thingy is so the color dimension isn't also padded, don't worry about that too much though\n",
        "                     mode='symmetric') #symmetric is the same as replication\n",
        "\n",
        "plt.imshow(replicationPaddedImage)\n",
        "plt.show()"
      ],
      "metadata": {
        "id": "cN7z823u0Bqp"
      },
      "execution_count": null,
      "outputs": []
    },
    {
      "cell_type": "code",
      "source": [
        "#run this cell to see a few different convolutions - try and reason through what the kernel in each is doing\n",
        "def convAndShowImage(image, kernel):\n",
        "    convolvedImage = convolve(image, kernel, axes=[0, 1])\n",
        "    #clip the image\n",
        "    convolvedImage = np.clip(convolvedImage, 0, 1)\n",
        "    plt.imshow(convolvedImage)\n",
        "    plt.show()\n",
        "\n",
        "\n",
        "image = data.chelsea()\n",
        "#normalize image\n",
        "image = image / 255\n",
        "\n",
        "edgeDetectionKernel = np.array([[-1, 0, 1],\n",
        "                                [-2, 0, 2],\n",
        "                                [-1, 0, 1]])\n",
        "\n",
        "laplacianKernel = np.array([[0, -1, 0],\n",
        "                            [-1, 5, -1],\n",
        "                            [0, -1, 0]])\n",
        "gaussianFilter = np.array([[1, 2, 1],\n",
        "                         [2, 4, 2],\n",
        "                         [1, 2, 1]]) / 16\n",
        "embossKernel = np.array([[-2, -1, 0],\n",
        "                         [-1, 1, 1],\n",
        "                         [0, 1, 2]])\n",
        "\n",
        "print(\"Original\")\n",
        "plt.imshow(image)\n",
        "plt.show()\n",
        "print(\"Edge Detection\")\n",
        "convAndShowImage(image, edgeDetectionKernel)\n",
        "print(\"Sharpen\")\n",
        "convAndShowImage(image, laplacianKernel)\n",
        "print(\"Gaussian Blur\")\n",
        "convAndShowImage(image, gaussianFilter)\n",
        "print(\"Emboss\")\n",
        "convAndShowImage(image, embossKernel)\n",
        "\n",
        "\n"
      ],
      "metadata": {
        "id": "LGZMGsuR2pTj"
      },
      "execution_count": null,
      "outputs": []
    },
    {
      "cell_type": "markdown",
      "source": [
        "##### Noise"
      ],
      "metadata": {
        "id": "TSkmrCf-0NUq"
      }
    },
    {
      "cell_type": "code",
      "source": [
        "#lets see what different types of noise look like\n",
        "\n",
        "#here is the original image - no noise\n",
        "originalImage = data.camera()\n",
        "plt.imshow(originalImage, cmap=\"gray\")\n",
        "plt.show()"
      ],
      "metadata": {
        "id": "VYZGFhbs0Omw"
      },
      "execution_count": null,
      "outputs": []
    },
    {
      "cell_type": "code",
      "source": [
        "#salt and pepper noise - don't worry about what this function is doing, but if you want to try and understand it, feel free to\n",
        "def addSaltPepperNoise(image):\n",
        "  #normalize image\n",
        "  noiseImage = np.copy(image) / 255\n",
        "\n",
        "  saltAmount = np.random.randint(1000, 20000)\n",
        "  for i in range(saltAmount):\n",
        "    x = np.random.randint(0, image.shape[0])\n",
        "    y = np.random.randint(0, image.shape[1])\n",
        "    noiseImage[x, y] = 1\n",
        "\n",
        "  pepperAmount = np.random.randint(1000, 20000)\n",
        "  for i in range(pepperAmount):\n",
        "    x = np.random.randint(0, image.shape[0])\n",
        "    y = np.random.randint(0, image.shape[1])\n",
        "    noiseImage[x, y] = 0\n",
        "\n",
        "  #go back to 255\n",
        "  noiseImage = noiseImage * 255\n",
        "  return noiseImage\n",
        "\n",
        "print(\"Salt and Pepper Noise\")\n",
        "saltPepperNoiseImage = addSaltPepperNoise(originalImage)\n",
        "plt.imshow(saltPepperNoiseImage, cmap=\"gray\")\n",
        "plt.show()\n",
        "\n",
        "#poisson noise\n",
        "print(\"Poisson Noise\")\n",
        "poissonNoise = np.random.poisson(lam=0.1, size=originalImage.shape)\n",
        "poissonNoiseImage = originalImage/255 + poissonNoise\n",
        "poissonNoiseImage = np.clip(poissonNoiseImage, 0, 1)\n",
        "plt.imshow(poissonNoiseImage, cmap=\"gray\")\n",
        "plt.show()\n",
        "\n",
        "#gaussian noise\n",
        "print(\"Guassian Noise\")\n",
        "gaussianNoise = np.random.normal(loc=0, scale=0.1, size=originalImage.shape) #the loc is the same thing as the mean, and the scale is the same thing as the standard deviation\n",
        "gaussianNoiseImage = originalImage/255 + gaussianNoise\n",
        "gaussianNoiseImage = np.clip(gaussianNoiseImage, 0, 1)\n",
        "plt.imshow(gaussianNoiseImage, cmap=\"gray\")\n",
        "plt.show()"
      ],
      "metadata": {
        "id": "BlSxzXO__qUA"
      },
      "execution_count": null,
      "outputs": []
    },
    {
      "cell_type": "code",
      "source": [
        "#let's see what Gaussian Noise looks like in RGB images\n",
        "print(\"Original Image\")\n",
        "rgbImage = data.astronaut()\n",
        "plt.imshow(rgbImage)\n",
        "plt.show()\n",
        "\n",
        "print(\"Gaussian Noise\")\n",
        "rgbImage = rgbImage/255\n",
        "noise = np.random.normal(loc=0, scale=0.3, size=rgbImage.shape)\n",
        "gaussianNoiseImage = rgbImage + noise\n",
        "gaussianNoiseImage = np.clip(gaussianNoiseImage, 0, 1)\n",
        "plt.imshow(gaussianNoiseImage)\n",
        "plt.show()\n",
        "\n",
        "#try messing around with different scale values (standard deviation values) and see what happens - what happens when it is really low? what happens when it is really high?"
      ],
      "metadata": {
        "id": "lorTxYh54zeq"
      },
      "execution_count": null,
      "outputs": []
    },
    {
      "cell_type": "markdown",
      "source": [
        "For RGB images, each component of the color vector will be independtly changed based on the gaussian distribution. This means that both the red, green, and blue color channels have some gaussian noise."
      ],
      "metadata": {
        "id": "zybazVM2CjtM"
      }
    },
    {
      "cell_type": "markdown",
      "source": [
        "##### Denoising"
      ],
      "metadata": {
        "id": "jRdEf-cMDQ0v"
      }
    },
    {
      "cell_type": "code",
      "source": [
        "print(\"Original Image\")\n",
        "plt.imshow(originalImage, cmap=\"gray\")\n",
        "plt.show()\n",
        "\n",
        "print(\"Gaussian Noise\")\n",
        "plt.imshow(gaussianNoiseImage, cmap=\"gray\")\n",
        "plt.show()"
      ],
      "metadata": {
        "id": "kuUhNlC741zY"
      },
      "execution_count": null,
      "outputs": []
    },
    {
      "cell_type": "code",
      "source": [
        "#Denoising the image with a simple blur - a uniform average kernel (all the kernel values are the same)\n",
        "print(\"Denoising with Standard Blur\")\n",
        "blurKernel = np.array([[1/9, 1/9, 1/9],\n",
        "                       [1/9, 1/9, 1/9],\n",
        "                       [1/9, 1/9, 1/9]\n",
        "                       ])\n",
        "convolvedImage = convolve(gaussianNoiseImage, blurKernel, axes=[0,1])\n",
        "plt.imshow(convolvedImage, cmap=\"gray\")\n",
        "plt.show()"
      ],
      "metadata": {
        "id": "kUV4ijdVd6T4"
      },
      "execution_count": null,
      "outputs": []
    },
    {
      "cell_type": "code",
      "source": [
        "#denoising with a gaussian blur\n",
        "gaussianBlurKernel = np.array([\n",
        "    [1/16, 2/16, 1/16],\n",
        "    [2/16, 4/16, 2/16],\n",
        "    [1/16, 2/16, 1/16]\n",
        "    ])\n",
        "convolvedImage = convolve(gaussianNoiseImage, gaussianBlurKernel, axes=[0,1])\n",
        "plt.imshow(convolvedImage, cmap=\"gray\")\n",
        "plt.show()\n",
        "#take a second to think about why a gaussian blur will denoise better than a standard blur"
      ],
      "metadata": {
        "id": "tSL4dZ8ZeFFX"
      },
      "execution_count": null,
      "outputs": []
    },
    {
      "cell_type": "markdown",
      "source": [
        "Again, this type of denoising will never completely restore the original image, but it does accomplish its goal of lowering the amount of noise."
      ],
      "metadata": {
        "id": "ujqWayrGfIhz"
      }
    },
    {
      "cell_type": "code",
      "source": [
        "#lets try it with color\n",
        "print(\"Original Image\")\n",
        "rgbImage = data.chelsea() #back to Chelsea! sorry if you aren't a cat person\n",
        "plt.imshow(rgbImage)\n",
        "plt.show()\n",
        "\n",
        "print(\"Noisy Image\")\n",
        "rgbImage = rgbImage/255\n",
        "noise = np.random.normal(loc=0, scale=0.05, size=rgbImage.shape)\n",
        "gaussianNoiseImage = rgbImage + noise\n",
        "gaussianNoiseImage = np.clip(gaussianNoiseImage, 0, 1)\n",
        "plt.imshow(gaussianNoiseImage)\n",
        "plt.show()"
      ],
      "metadata": {
        "id": "qGZv8hoJfRCG"
      },
      "execution_count": null,
      "outputs": []
    },
    {
      "cell_type": "code",
      "source": [
        "#try filling in the kernel and convolving it with the image to denoise the image\n",
        "print(\"Denoising with Gaussian Blur\")\n",
        "denoiseKernel = np.array([\n",
        "\n",
        "\n",
        "                          ])\n",
        "denoisedImage = convolve(gaussianNoiseImage, denoiseKernel, axes=[0,1])\n",
        "plt.imshow(denoisedImage)\n",
        "plt.show()"
      ],
      "metadata": {
        "id": "Wk55TJF-fpTS"
      },
      "execution_count": null,
      "outputs": []
    }
  ]
}